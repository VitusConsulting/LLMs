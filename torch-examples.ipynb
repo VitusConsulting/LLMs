{
 "cells": [
  {
   "cell_type": "code",
   "execution_count": 3,
   "id": "ffec25e8",
   "metadata": {},
   "outputs": [
    {
     "name": "stdout",
     "output_type": "stream",
     "text": [
      "cpu\n"
     ]
    }
   ],
   "source": [
    "import torch\n",
    "import torch.nn as nn\n",
    "from torch.nn import functional as F\n",
    "import numpy as np\n",
    "import time\n",
    "device = 'cuda' if torch.cuda.is_available() else 'cpu'\n",
    "print(device)"
   ]
  },
  {
   "cell_type": "code",
   "execution_count": 10,
   "id": "e9b270de",
   "metadata": {},
   "outputs": [
    {
     "name": "stdout",
     "output_type": "stream",
     "text": [
      "0.00000000\n",
      "CPU times: total: 0 ns\n",
      "Wall time: 0 ns\n"
     ]
    }
   ],
   "source": [
    "%%time\n",
    "start_time = time.time()\n",
    "# matrix operations here\n",
    "zeros = torch.zeros(1, 1)\n",
    "end_time = time.time()\n",
    "\n",
    "elapsed_time = end_time - start_time\n",
    "print(f\"{elapsed_time:.8f}\")"
   ]
  },
  {
   "cell_type": "code",
   "execution_count": 5,
   "id": "af5b11c0",
   "metadata": {},
   "outputs": [
    {
     "name": "stdout",
     "output_type": "stream",
     "text": [
      "1.22026277\n",
      "2.03060484\n"
     ]
    }
   ],
   "source": [
    "torch_rand1 = torch.rand(100, 100, 100, 100).to(device)\n",
    "torch_rand2 = torch.rand(100, 100, 100, 100).to(device)\n",
    "np_rand1 = torch.rand(100, 100, 100, 100)\n",
    "np_rand2 = torch.rand(100, 100, 100, 100)\n",
    "\n",
    "start_time = time.time()\n",
    "\n",
    "rand = (torch_rand1 @ torch_rand2)\n",
    "\n",
    "end_time = time.time()\n",
    "\n",
    "elapsed_time = end_time - start_time\n",
    "print(f\"{elapsed_time:.8f}\")\n",
    "\n",
    "\n",
    "start_time = time.time()\n",
    "\n",
    "rand = np.multiply(np_rand1, np_rand2)\n",
    "end_time = time.time()\n",
    "elapsed_time = end_time - start_time\n",
    "print(f\"{elapsed_time:.8f}\")"
   ]
  },
  {
   "cell_type": "code",
   "execution_count": 17,
   "id": "12e36278",
   "metadata": {},
   "outputs": [
    {
     "name": "stdout",
     "output_type": "stream",
     "text": [
      "tensor([1, 1, 1, 1, 1, 1, 1, 1, 0, 1])\n"
     ]
    }
   ],
   "source": [
    "# embeddings, torch.stack, torch.multinomial, torch.tril, torch.triu, input.T / input.transpose, nn.Linear, torch.cat, F.softmax (show all the examples of functions/methods with pytorch docs)\n",
    "\n",
    "\n",
    "# Define a probability tensor\n",
    "probabilities = torch.tensor([0.1, 0.9])\n",
    "# 10% or 0.1 => 0, 90% or 0.9 => 1. each probability points to the index of the probability in the tensor\n",
    "# Draw 5 samples from the multinomial distribution\n",
    "samples = torch.multinomial(probabilities, num_samples=10, replacement=True)\n",
    "print(samples)"
   ]
  },
  {
   "cell_type": "code",
   "execution_count": 12,
   "id": "5d4c6dd3",
   "metadata": {},
   "outputs": [
    {
     "data": {
      "text/plain": [
       "tensor([1, 2, 3, 4, 5])"
      ]
     },
     "execution_count": 12,
     "metadata": {},
     "output_type": "execute_result"
    }
   ],
   "source": [
    "tensor = torch.tensor([1, 2, 3, 4])\n",
    "out = torch.cat((tensor, torch.tensor([5])), dim=0)\n",
    "out"
   ]
  },
  {
   "cell_type": "code",
   "execution_count": 8,
   "id": "521797a6",
   "metadata": {},
   "outputs": [
    {
     "data": {
      "text/plain": [
       "tensor([[1., 0., 0., 0., 0.],\n",
       "        [1., 1., 0., 0., 0.],\n",
       "        [1., 1., 1., 0., 0.],\n",
       "        [1., 1., 1., 1., 0.],\n",
       "        [1., 1., 1., 1., 1.]])"
      ]
     },
     "execution_count": 8,
     "metadata": {},
     "output_type": "execute_result"
    }
   ],
   "source": [
    "out = torch.tril(torch.ones(5, 5))\n",
    "out\n",
    "### triangle lower ###"
   ]
  },
  {
   "cell_type": "code",
   "execution_count": 18,
   "id": "f7224b42",
   "metadata": {},
   "outputs": [
    {
     "data": {
      "text/plain": [
       "tensor([[1., 1., 1., 1., 1.],\n",
       "        [0., 1., 1., 1., 1.],\n",
       "        [0., 0., 1., 1., 1.],\n",
       "        [0., 0., 0., 1., 1.],\n",
       "        [0., 0., 0., 0., 1.]])"
      ]
     },
     "execution_count": 18,
     "metadata": {},
     "output_type": "execute_result"
    }
   ],
   "source": [
    "out = torch.triu(torch.ones(5, 5))\n",
    "out\n",
    "### triangle upper ####"
   ]
  },
  {
   "cell_type": "code",
   "execution_count": 19,
   "id": "7d805279",
   "metadata": {},
   "outputs": [
    {
     "data": {
      "text/plain": [
       "tensor([[0., -inf, -inf, -inf, -inf],\n",
       "        [0., 0., -inf, -inf, -inf],\n",
       "        [0., 0., 0., -inf, -inf],\n",
       "        [0., 0., 0., 0., -inf],\n",
       "        [0., 0., 0., 0., 0.]])"
      ]
     },
     "execution_count": 19,
     "metadata": {},
     "output_type": "execute_result"
    }
   ],
   "source": [
    "out = torch.zeros(5, 5).masked_fill(torch.tril(torch.ones(5, 5)) == 0, float('-inf'))\n",
    "out"
   ]
  },
  {
   "cell_type": "code",
   "execution_count": 20,
   "id": "c6813749",
   "metadata": {},
   "outputs": [
    {
     "data": {
      "text/plain": [
       "tensor([[1., 0., 0., 0., 0.],\n",
       "        [1., 1., 0., 0., 0.],\n",
       "        [1., 1., 1., 0., 0.],\n",
       "        [1., 1., 1., 1., 0.],\n",
       "        [1., 1., 1., 1., 1.]])"
      ]
     },
     "execution_count": 20,
     "metadata": {},
     "output_type": "execute_result"
    }
   ],
   "source": [
    "torch.exp(out)"
   ]
  },
  {
   "cell_type": "code",
   "execution_count": 21,
   "id": "20e4018b",
   "metadata": {},
   "outputs": [
    {
     "name": "stdout",
     "output_type": "stream",
     "text": [
      "torch.Size([3, 2, 4])\n",
      "torch.Size([2, 4, 3])\n"
     ]
    }
   ],
   "source": [
    "input = torch.zeros(2, 3, 4)\n",
    "out1 = input.transpose(0, 1)\n",
    "out2 = input.transpose(-2,-1)\n",
    "print(out1.shape)\n",
    "print(out2.shape)\n",
    "# torch.permute works the same but you provide the new order of dimensions instead of the dimensions you'd like to swap."
   ]
  },
  {
   "cell_type": "code",
   "execution_count": 22,
   "id": "d01eb284",
   "metadata": {},
   "outputs": [
    {
     "data": {
      "text/plain": [
       "tensor([[1, 2, 3],\n",
       "        [4, 5, 6],\n",
       "        [7, 8, 9]])"
      ]
     },
     "execution_count": 22,
     "metadata": {},
     "output_type": "execute_result"
    }
   ],
   "source": [
    "tensor1 = torch.tensor([1, 2, 3])\n",
    "tensor2 = torch.tensor([4, 5, 6])\n",
    "tensor3 = torch.tensor([7, 8, 9])\n",
    "\n",
    "# Stack the tensors along a new dimension\n",
    "stacked_tensor = torch.stack([tensor1, tensor2, tensor3])\n",
    "stacked_tensor"
   ]
  },
  {
   "cell_type": "code",
   "execution_count": 23,
   "id": "0d5484e4",
   "metadata": {},
   "outputs": [
    {
     "name": "stdout",
     "output_type": "stream",
     "text": [
      "tensor([10.1608,  4.0369,  1.7123], grad_fn=<SqueezeBackward4>)\n"
     ]
    }
   ],
   "source": [
    "import torch.nn as nn\n",
    "sample = torch.tensor([10.,10.,10.])\n",
    "linear = nn.Linear(3, 3, bias=False)\n",
    "print(linear(sample))\n",
    "### learneable parameters ###"
   ]
  },
  {
   "cell_type": "code",
   "execution_count": 24,
   "id": "2880dd59",
   "metadata": {},
   "outputs": [
    {
     "name": "stdout",
     "output_type": "stream",
     "text": [
      "tensor([0.0900, 0.2447, 0.6652])\n"
     ]
    }
   ],
   "source": [
    "import torch.nn.functional as F\n",
    "\n",
    "# Create a tensor\n",
    "tensor1 = torch.tensor([1.0, 2.0, 3.0])\n",
    "\n",
    "# Apply softmax using torch.nn.functional.softmax()\n",
    "softmax_output = F.softmax(tensor1, dim=0)\n",
    "\n",
    "print(softmax_output)"
   ]
  },
  {
   "cell_type": "code",
   "execution_count": 25,
   "id": "268930de",
   "metadata": {},
   "outputs": [
    {
     "name": "stdout",
     "output_type": "stream",
     "text": [
      "torch.Size([4, 6])\n",
      "tensor([[ 2.4712, -1.1520,  0.1358, -0.2148,  0.3897,  0.4202],\n",
      "        [-0.2939,  1.3379, -1.0347,  0.5958,  0.5332, -2.0108],\n",
      "        [ 0.3027, -0.1405, -0.0881, -0.8926,  0.0885,  0.7502],\n",
      "        [ 0.8695,  2.0908, -0.2453,  1.6730, -1.3011,  0.0390]],\n",
      "       grad_fn=<EmbeddingBackward0>)\n"
     ]
    }
   ],
   "source": [
    "# Initialize an embedding layer\n",
    "vocab_size = 80\n",
    "embedding_dim = 6\n",
    "embedding = nn.Embedding(vocab_size, embedding_dim)\n",
    "\n",
    "# Create some input indices\n",
    "input_indices = torch.LongTensor([1, 5, 3, 2])\n",
    "\n",
    "# Apply the embedding layer\n",
    "embedded_output = embedding(input_indices)\n",
    "\n",
    "# The output will be a tensor of shape (4, 100), where 4 is the number of inputs\n",
    "# and 100 is the dimensionality of the embedding vectors\n",
    "print(embedded_output.shape)\n",
    "print(embedded_output)"
   ]
  },
  {
   "cell_type": "code",
   "execution_count": 26,
   "id": "b9e3e0a0",
   "metadata": {},
   "outputs": [
    {
     "name": "stdout",
     "output_type": "stream",
     "text": [
      "tensor([[ 27,  30,  33],\n",
      "        [ 61,  68,  75],\n",
      "        [ 95, 106, 117]])\n"
     ]
    }
   ],
   "source": [
    "a = torch.tensor([[1,2],[3,4],[5,6]])\n",
    "b = torch.tensor([[7,8,9],[10,11,12]])\n",
    "# print(a @ b)\n",
    "print(torch.matmul(a, b))"
   ]
  },
  {
   "cell_type": "code",
   "execution_count": 27,
   "id": "4324f373",
   "metadata": {},
   "outputs": [
    {
     "name": "stdout",
     "output_type": "stream",
     "text": [
      "tensor([[0., 0., 0.],\n",
      "        [0., 0., 0.],\n",
      "        [0., 0., 0.]])\n"
     ]
    }
   ],
   "source": [
    "int_64 = torch.randint(1, (3, 2)).float()\n",
    "#type int64\n",
    "float_32 = torch.rand(2,3)\n",
    "#type float32\n",
    "# print(int_64.dtype, float_32.dtype)\n",
    "result = torch.matmul(int_64, float_32)\n",
    "print(result)"
   ]
  },
  {
   "cell_type": "code",
   "execution_count": 28,
   "id": "e25836c3",
   "metadata": {},
   "outputs": [
    {
     "name": "stdout",
     "output_type": "stream",
     "text": [
      "torch.Size([2, 3, 5])\n",
      "torch.Size([2, 3, 5])\n"
     ]
    }
   ],
   "source": [
    "a = torch.rand(2, 3, 5)\n",
    "print(a.shape)\n",
    "x, y, z = a.shape\n",
    "a = a.view(x,y,z)\n",
    "# print(x, y, z)\n",
    "print(a.shape)"
   ]
  },
  {
   "cell_type": "code",
   "execution_count": 29,
   "id": "65e9f2eb",
   "metadata": {},
   "outputs": [
    {
     "name": "stdout",
     "output_type": "stream",
     "text": [
      "tensor([[0.5122, 0.1667, 0.4715, 0.1531, 0.4874, 0.5638, 0.8437, 0.0163, 0.0532,\n",
      "         0.7731],\n",
      "        [0.3276, 0.5830, 0.6497, 0.9188, 0.1379, 0.0652, 0.6481, 0.9538, 0.3290,\n",
      "         0.1806],\n",
      "        [0.5129, 0.3903, 0.9967, 0.5249, 0.2633, 0.0131, 0.3665, 0.1563, 0.4252,\n",
      "         0.4724],\n",
      "        [0.3791, 0.5555, 0.9089, 0.9088, 0.1846, 0.2948, 0.0052, 0.7322, 0.9994,\n",
      "         0.7382],\n",
      "        [0.0161, 0.3174, 0.7996, 0.3183, 0.6166, 0.7623, 0.2310, 0.4085, 0.3405,\n",
      "         0.0490],\n",
      "        [0.0209, 0.2764, 0.5084, 0.3325, 0.2739, 0.8282, 0.0730, 0.9342, 0.5397,\n",
      "         0.6830],\n",
      "        [0.3230, 0.9185, 0.6914, 0.4543, 0.3028, 0.1290, 0.5115, 0.4457, 0.2906,\n",
      "         0.2024],\n",
      "        [0.9719, 0.1381, 0.9957, 0.4433, 0.0356, 0.7623, 0.1715, 0.5654, 0.9220,\n",
      "         0.3477],\n",
      "        [0.4897, 0.2323, 0.1984, 0.5228, 0.0391, 0.3962, 0.1479, 0.9773, 0.3837,\n",
      "         0.2081],\n",
      "        [0.1865, 0.8482, 0.3629, 0.4144, 0.5911, 0.8412, 0.3059, 0.1068, 0.5995,\n",
      "         0.3979],\n",
      "        [0.8995, 0.1053, 0.7828, 0.8355, 0.8159, 0.4081, 0.4529, 0.2649, 0.5463,\n",
      "         0.4796],\n",
      "        [0.5617, 0.9917, 0.3483, 0.8534, 0.4567, 0.9292, 0.0949, 0.5055, 0.5072,\n",
      "         0.1731],\n",
      "        [0.9082, 0.5045, 0.7554, 0.5817, 0.0053, 0.2306, 0.1065, 0.0505, 0.8402,\n",
      "         0.9271],\n",
      "        [0.1079, 0.4913, 0.5087, 0.5105, 0.3909, 0.1569, 0.6604, 0.9007, 0.1833,\n",
      "         0.2927],\n",
      "        [0.4553, 0.3806, 0.1733, 0.2125, 0.9643, 0.5459, 0.8843, 0.3562, 0.8804,\n",
      "         0.4534],\n",
      "        [0.3427, 0.2268, 0.1345, 0.2515, 0.3209, 0.8600, 0.5374, 0.1559, 0.9678,\n",
      "         0.9695],\n",
      "        [0.8620, 0.3141, 0.4675, 0.6909, 0.2201, 0.6434, 0.4884, 0.6192, 0.5437,\n",
      "         0.6157],\n",
      "        [0.8860, 0.0263, 0.3388, 0.3169, 0.9618, 0.5694, 0.2617, 0.7625, 0.9606,\n",
      "         0.2296],\n",
      "        [0.0083, 0.4629, 0.0066, 0.6723, 0.8252, 0.8826, 0.0354, 0.6019, 0.2240,\n",
      "         0.2640],\n",
      "        [0.2089, 0.4675, 0.8343, 0.1993, 0.0048, 0.3665, 0.1174, 0.5351, 0.1504,\n",
      "         0.6385],\n",
      "        [0.1408, 0.8597, 0.7028, 0.0097, 0.4082, 0.4451, 0.3991, 0.5663, 0.9403,\n",
      "         0.3436],\n",
      "        [0.9764, 0.4215, 0.7818, 0.8745, 0.1562, 0.4927, 0.9870, 0.6080, 0.2245,\n",
      "         0.4483],\n",
      "        [0.4926, 0.7296, 0.1364, 0.0438, 0.4976, 0.4046, 0.9738, 0.0428, 0.6247,\n",
      "         0.0167],\n",
      "        [0.8911, 0.3508, 0.9116, 0.9871, 0.9111, 0.1699, 0.2399, 0.7827, 0.7084,\n",
      "         0.0408],\n",
      "        [0.7031, 0.3394, 0.3572, 0.5606, 0.1190, 0.3535, 0.2929, 0.6182, 0.1386,\n",
      "         0.4381],\n",
      "        [0.4722, 0.5358, 0.0724, 0.4152, 0.9808, 0.6354, 0.7121, 0.2337, 0.3662,\n",
      "         0.4004],\n",
      "        [0.6027, 0.5528, 0.5150, 0.7221, 0.0649, 0.0983, 0.3551, 0.1541, 0.8434,\n",
      "         0.7686],\n",
      "        [0.6626, 0.8512, 0.0654, 0.8549, 0.1291, 0.6071, 0.6019, 0.4271, 0.3556,\n",
      "         0.4922],\n",
      "        [0.2762, 0.7671, 0.6408, 0.5969, 0.2938, 0.3681, 0.9679, 0.2531, 0.4473,\n",
      "         0.3425],\n",
      "        [0.1353, 0.0926, 0.6277, 0.8877, 0.5085, 0.0803, 0.5542, 0.7630, 0.8258,\n",
      "         0.9627],\n",
      "        [0.9766, 0.5897, 0.5031, 0.5685, 0.1897, 0.7526, 0.7492, 0.7665, 0.7239,\n",
      "         0.9382],\n",
      "        [0.7110, 0.3873, 0.6770, 0.5327, 0.0228, 0.4594, 0.8596, 0.4649, 0.4066,\n",
      "         0.9313]])\n"
     ]
    },
    {
     "ename": "IndexError",
     "evalue": "too many indices for tensor of dimension 2",
     "output_type": "error",
     "traceback": [
      "\u001b[1;31m---------------------------------------------------------------------------\u001b[0m",
      "\u001b[1;31mIndexError\u001b[0m                                Traceback (most recent call last)",
      "Cell \u001b[1;32mIn[29], line 6\u001b[0m\n\u001b[0;32m      4\u001b[0m \u001b[38;5;28mprint\u001b[39m(output)\n\u001b[0;32m      5\u001b[0m \u001b[38;5;66;03m# print(input)\u001b[39;00m\n\u001b[1;32m----> 6\u001b[0m \u001b[38;5;28mprint\u001b[39m(\u001b[43moutput\u001b[49m\u001b[43m[\u001b[49m\u001b[43m:\u001b[49m\u001b[43m,\u001b[49m\u001b[43m \u001b[49m\u001b[38;5;241;43m-\u001b[39;49m\u001b[38;5;241;43m1\u001b[39;49m\u001b[43m,\u001b[49m\u001b[43m \u001b[49m\u001b[43m:\u001b[49m\u001b[43m]\u001b[49m)\n",
      "\u001b[1;31mIndexError\u001b[0m: too many indices for tensor of dimension 2"
     ]
    }
   ],
   "source": [
    "input = torch.rand((4, 8, 10))\n",
    "B, T, C = input.shape\n",
    "output = input.view(B*T, C)\n",
    "print(output)\n",
    "# print(input)\n",
    "print(output[:, -1, :])"
   ]
  },
  {
   "cell_type": "code",
   "execution_count": 30,
   "id": "61cd4759",
   "metadata": {},
   "outputs": [
    {
     "name": "stdout",
     "output_type": "stream",
     "text": [
      "tensor([1.])\n"
     ]
    }
   ],
   "source": [
    "x = torch.tensor([10], dtype=torch.float32)\n",
    "y = F.tanh(x)\n",
    "print(y)"
   ]
  },
  {
   "cell_type": "code",
   "execution_count": null,
   "id": "071acbaf",
   "metadata": {},
   "outputs": [],
   "source": []
  }
 ],
 "metadata": {
  "kernelspec": {
   "display_name": "cuda-gpt",
   "language": "python",
   "name": "cuda"
  },
  "language_info": {
   "codemirror_mode": {
    "name": "ipython",
    "version": 3
   },
   "file_extension": ".py",
   "mimetype": "text/x-python",
   "name": "python",
   "nbconvert_exporter": "python",
   "pygments_lexer": "ipython3",
   "version": "3.11.5"
  }
 },
 "nbformat": 4,
 "nbformat_minor": 5
}
